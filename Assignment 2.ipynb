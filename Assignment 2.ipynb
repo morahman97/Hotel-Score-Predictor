{
 "cells": [
  {
   "cell_type": "code",
   "execution_count": 45,
   "metadata": {},
   "outputs": [],
   "source": [
    "import numpy as np\n",
    "import pandas as pd\n",
    "from urllib.request import urlopen\n",
    "import scipy.optimize\n",
    "import random\n",
    "from collections import defaultdict\n",
    "from collections import Counter\n",
    "import nltk\n",
    "import string\n",
    "from nltk.stem.porter import *\n",
    "from sklearn import linear_model\n",
    "import random\n",
    "from statistics import mode\n",
    "from collections import Counter\n",
    "from operator import itemgetter\n",
    "from sklearn import svm\n",
    "from sklearn.svm import LinearSVC\n",
    "from sklearn.utils import shuffle\n",
    "import matplotlib.pyplot as plt\n",
    "from sklearn.linear_model import LinearRegression\n",
    "from sklearn.model_selection import train_test_split\n",
    "from sklearn.metrics import mean_squared_error, r2_score\n",
    "import nltk"
   ]
  },
  {
   "cell_type": "code",
   "execution_count": 3,
   "metadata": {
    "collapsed": true
   },
   "outputs": [],
   "source": [
    "df = pd.read_csv(\"Hotel_Reviews.csv\")"
   ]
  },
  {
   "cell_type": "code",
   "execution_count": 4,
   "metadata": {
    "collapsed": true
   },
   "outputs": [],
   "source": [
    "# Get country of hotel for all reviews\n",
    "countries = []\n",
    "\n",
    "for index, row in df.iterrows():\n",
    "    address = row['Hotel_Address'].split()\n",
    "    country = address[-1]\n",
    "    \n",
    "    # Encode country with following code: 0 - Netherlands, 1 - UK, 2 - France, 3 - Spain, 4 - Italy, 5 - Austria\n",
    "    # Handle if country is UK\n",
    "    if country == 'Netherlands':\n",
    "        countries.append(0)\n",
    "    elif country == 'Kingdom':\n",
    "        countries.append(1)\n",
    "    elif country == 'France':\n",
    "        countries.append(2)\n",
    "    elif country == 'Spain':\n",
    "        countries.append(3)\n",
    "    elif country == 'Italy':\n",
    "        countries.append(4)\n",
    "    elif country == 'Austria':\n",
    "        countries.append(5)\n",
    "\n",
    "# Append country of hotel into dataframe to use as a distinct feature\n",
    "df['Country'] = pd.Series(countries).values"
   ]
  },
  {
   "cell_type": "code",
   "execution_count": 5,
   "metadata": {},
   "outputs": [
    {
     "data": {
      "text/html": [
       "<div>\n",
       "<style>\n",
       "    .dataframe thead tr:only-child th {\n",
       "        text-align: right;\n",
       "    }\n",
       "\n",
       "    .dataframe thead th {\n",
       "        text-align: left;\n",
       "    }\n",
       "\n",
       "    .dataframe tbody tr th {\n",
       "        vertical-align: top;\n",
       "    }\n",
       "</style>\n",
       "<table border=\"1\" class=\"dataframe\">\n",
       "  <thead>\n",
       "    <tr style=\"text-align: right;\">\n",
       "      <th></th>\n",
       "      <th>Hotel_Address</th>\n",
       "      <th>Average_Score</th>\n",
       "      <th>Hotel_Name</th>\n",
       "      <th>Total_Number_of_Reviews</th>\n",
       "      <th>Country</th>\n",
       "    </tr>\n",
       "  </thead>\n",
       "  <tbody>\n",
       "    <tr>\n",
       "      <th>54717</th>\n",
       "      <td>15 Place Vend me 1st arr 75001 Paris France</td>\n",
       "      <td>9.8</td>\n",
       "      <td>Ritz Paris</td>\n",
       "      <td>122</td>\n",
       "      <td>2</td>\n",
       "    </tr>\n",
       "    <tr>\n",
       "      <th>402244</th>\n",
       "      <td>Pau Claris 179 Eixample 08037 Barcelona Spain</td>\n",
       "      <td>9.6</td>\n",
       "      <td>H10 Casa Mimosa 4 Sup</td>\n",
       "      <td>454</td>\n",
       "      <td>3</td>\n",
       "    </tr>\n",
       "    <tr>\n",
       "      <th>185602</th>\n",
       "      <td>41 Buckingham Palace Road Westminster Borough ...</td>\n",
       "      <td>9.6</td>\n",
       "      <td>41</td>\n",
       "      <td>244</td>\n",
       "      <td>1</td>\n",
       "    </tr>\n",
       "    <tr>\n",
       "      <th>398945</th>\n",
       "      <td>Passeig de Colom 9 Ciutat Vella 08002 Barcelon...</td>\n",
       "      <td>9.6</td>\n",
       "      <td>Hotel The Serras</td>\n",
       "      <td>604</td>\n",
       "      <td>3</td>\n",
       "    </tr>\n",
       "    <tr>\n",
       "      <th>176997</th>\n",
       "      <td>4 rue d Alger 1st arr 75001 Paris France</td>\n",
       "      <td>9.6</td>\n",
       "      <td>H tel de La Tamise Esprit de France</td>\n",
       "      <td>166</td>\n",
       "      <td>2</td>\n",
       "    </tr>\n",
       "    <tr>\n",
       "      <th>316447</th>\n",
       "      <td>Elisabets 11 Ciutat Vella 08001 Barcelona Spain</td>\n",
       "      <td>9.6</td>\n",
       "      <td>Hotel Casa Camper</td>\n",
       "      <td>732</td>\n",
       "      <td>3</td>\n",
       "    </tr>\n",
       "    <tr>\n",
       "      <th>14708</th>\n",
       "      <td>1 Suffolk Place Westminster Borough London SW1...</td>\n",
       "      <td>9.6</td>\n",
       "      <td>Haymarket Hotel</td>\n",
       "      <td>255</td>\n",
       "      <td>1</td>\n",
       "    </tr>\n",
       "    <tr>\n",
       "      <th>390999</th>\n",
       "      <td>One Ham Yard Westminster Borough London W1D 7D...</td>\n",
       "      <td>9.5</td>\n",
       "      <td>Ham Yard Hotel</td>\n",
       "      <td>314</td>\n",
       "      <td>1</td>\n",
       "    </tr>\n",
       "    <tr>\n",
       "      <th>312809</th>\n",
       "      <td>Dels Lledo 7 Ciutat Vella 08003 Barcelona Spain</td>\n",
       "      <td>9.5</td>\n",
       "      <td>Mercer Hotel Barcelona</td>\n",
       "      <td>362</td>\n",
       "      <td>3</td>\n",
       "    </tr>\n",
       "    <tr>\n",
       "      <th>81101</th>\n",
       "      <td>19 Boulevard De La Tour Maubourg 7th arr 75007...</td>\n",
       "      <td>9.5</td>\n",
       "      <td>Le Narcisse Blanc Spa</td>\n",
       "      <td>222</td>\n",
       "      <td>2</td>\n",
       "    </tr>\n",
       "  </tbody>\n",
       "</table>\n",
       "</div>"
      ],
      "text/plain": [
       "                                            Hotel_Address  Average_Score  \\\n",
       "54717         15 Place Vend me 1st arr 75001 Paris France            9.8   \n",
       "402244      Pau Claris 179 Eixample 08037 Barcelona Spain            9.6   \n",
       "185602  41 Buckingham Palace Road Westminster Borough ...            9.6   \n",
       "398945  Passeig de Colom 9 Ciutat Vella 08002 Barcelon...            9.6   \n",
       "176997           4 rue d Alger 1st arr 75001 Paris France            9.6   \n",
       "316447    Elisabets 11 Ciutat Vella 08001 Barcelona Spain            9.6   \n",
       "14708   1 Suffolk Place Westminster Borough London SW1...            9.6   \n",
       "390999  One Ham Yard Westminster Borough London W1D 7D...            9.5   \n",
       "312809    Dels Lledo 7 Ciutat Vella 08003 Barcelona Spain            9.5   \n",
       "81101   19 Boulevard De La Tour Maubourg 7th arr 75007...            9.5   \n",
       "\n",
       "                                 Hotel_Name  Total_Number_of_Reviews  Country  \n",
       "54717                            Ritz Paris                      122        2  \n",
       "402244                H10 Casa Mimosa 4 Sup                      454        3  \n",
       "185602                                   41                      244        1  \n",
       "398945                     Hotel The Serras                      604        3  \n",
       "176997  H tel de La Tamise Esprit de France                      166        2  \n",
       "316447                    Hotel Casa Camper                      732        3  \n",
       "14708                       Haymarket Hotel                      255        1  \n",
       "390999                       Ham Yard Hotel                      314        1  \n",
       "312809               Mercer Hotel Barcelona                      362        3  \n",
       "81101                 Le Narcisse Blanc Spa                      222        2  "
      ]
     },
     "execution_count": 5,
     "metadata": {},
     "output_type": "execute_result"
    }
   ],
   "source": [
    "# Build a dataset that contains unique hotels only\n",
    "dfStripped = df[['Hotel_Address', 'Average_Score', 'Hotel_Name', 'Total_Number_of_Reviews', 'Country']].copy()\n",
    "dfStripped = dfStripped.drop_duplicates()\n",
    "\n",
    "# Sort by average score in descending order and print top 10 \n",
    "dfStripped.sort_values(by=['Average_Score'], ascending=False).head(10)"
   ]
  },
  {
   "cell_type": "code",
   "execution_count": 6,
   "metadata": {
    "collapsed": true,
    "scrolled": true
   },
   "outputs": [],
   "source": [
    "# Find which country has the most distinct hotels\n",
    "# Find average rating by country\n",
    "\n",
    "countryHotelDict = dict() # Used to count distinct hotels\n",
    "countryScoreDict = dict() # Used to count distinct scores\n",
    "\n",
    "for index, row in dfStripped.iterrows():\n",
    "    score = row['Average_Score']\n",
    "    hotel = row['Hotel_Name']\n",
    "    country = row['Country']\n",
    "    if country not in countryHotelDict:\n",
    "        countryHotelDict[country] = [hotel]\n",
    "        countryScoreDict[country] = [score]\n",
    "    elif hotel not in countryHotelDict[country]:\n",
    "        countryHotelDict[country].append(hotel)\n",
    "        countryScoreDict[country].append(score)\n",
    "        \n",
    "countryHotelCount = dict() # Associate entire country with num of hotels\n",
    "countryScoreCount = dict() # Associate entire country with average score\n",
    "\n",
    "for key, value in countryScoreDict.items():\n",
    "    countryScoreCount[key] = sum(value)/len(value)\n",
    "\n",
    "for key, value in countryHotelDict.items():\n",
    "    countryHotelCount[key] = len(value)"
   ]
  },
  {
   "cell_type": "code",
   "execution_count": 7,
   "metadata": {},
   "outputs": [
    {
     "name": "stdout",
     "output_type": "stream",
     "text": [
      "{0: 105, 1: 400, 2: 458, 3: 211, 4: 162, 5: 158}\n",
      "{0: 8.409523809523808, 1: 8.464000000000004, 2: 8.493668122270746, 3: 8.496208530805688, 4: 8.318518518518518, 5: 8.549999999999995}\n"
     ]
    }
   ],
   "source": [
    "print(countryHotelCount)\n",
    "print(countryScoreCount)"
   ]
  },
  {
   "cell_type": "markdown",
   "metadata": {},
   "source": [
    "Even though Austria has one of the fewest number of distinct hotels, it has the highest average rating of all hotels. Interesting because Austria does not show up in the top 10 hotels. "
   ]
  },
  {
   "cell_type": "markdown",
   "metadata": {},
   "source": [
    "### Relationship between number of reviews a reviewer gives and their average rating"
   ]
  },
  {
   "cell_type": "code",
   "execution_count": 8,
   "metadata": {
    "collapsed": true
   },
   "outputs": [],
   "source": [
    "# Find average rating based on number of reviews by user\n",
    "numReviewsRatingDict = dict()\n",
    "\n",
    "for index, row in df.iterrows():\n",
    "    numReviews = row['Total_Number_of_Reviews_Reviewer_Has_Given']\n",
    "    rating = row['Reviewer_Score']\n",
    "    if numReviews not in numReviewsRatingDict:\n",
    "        numReviewsRatingDict[numReviews] = [rating]\n",
    "    else:\n",
    "        numReviewsRatingDict[numReviews].append(rating)"
   ]
  },
  {
   "cell_type": "code",
   "execution_count": 9,
   "metadata": {
    "collapsed": true
   },
   "outputs": [],
   "source": [
    "# Associate number of reviews with the average rating for that number\n",
    "\n",
    "numReviewsAvgRatingDict = dict()\n",
    "\n",
    "for key,value in numReviewsRatingDict.items():\n",
    "    numReviewsAvgRatingDict[key] = sum(value)/len(value)"
   ]
  },
  {
   "cell_type": "code",
   "execution_count": 10,
   "metadata": {},
   "outputs": [
    {
     "data": {
      "text/plain": [
       "Text(0,0.5,'Average Rating')"
      ]
     },
     "execution_count": 10,
     "metadata": {},
     "output_type": "execute_result"
    },
    {
     "data": {
      "image/png": "[encoded data removed]",
      "text/plain": [
       "<matplotlib.figure.Figure at 0x11c178198>"
      ]
     },
     "metadata": {
      "needs_background": "light"
     },
     "output_type": "display_data"
    }
   ],
   "source": [
    "# Generate scatter plot to visualize the data \n",
    "X = []\n",
    "y = []\n",
    "\n",
    "for key, value in numReviewsAvgRatingDict.items():\n",
    "    X.append(key)\n",
    "    y.append(value)\n",
    "    \n",
    "plt.scatter(X, y)\n",
    "plt.xlabel('Number of reviews by user')\n",
    "plt.ylabel('Average Rating')"
   ]
  },
  {
   "cell_type": "markdown",
   "metadata": {},
   "source": [
    "The fewer reviews a user gives, the closer the average is to 8.5"
   ]
  },
  {
   "cell_type": "markdown",
   "metadata": {},
   "source": [
    "### Relationship between month of year and rating"
   ]
  },
  {
   "cell_type": "code",
   "execution_count": 11,
   "metadata": {},
   "outputs": [
    {
     "name": "stdout",
     "output_type": "stream",
     "text": [
      "1 8.48501103177\n",
      "2 8.52805837894\n",
      "3 8.47983215763\n",
      "4 8.43152997691\n",
      "5 8.3810410841\n",
      "6 8.3914187803\n",
      "7 8.33548602944\n",
      "8 8.41173823808\n",
      "9 8.29064768549\n",
      "10 8.26157653445\n",
      "11 8.33884348068\n",
      "12 8.42713156765\n"
     ]
    }
   ],
   "source": [
    "#map of all months and a list of all their ratings\n",
    "months_ratings = defaultdict(list)\n",
    "\n",
    "for date, rating in zip(df['Review_Date'], df['Reviewer_Score']):\n",
    "    month = date.split(\"/\")[0]\n",
    "    months_ratings[month].append(rating)\n",
    "    \n",
    "for month in range(1,13):\n",
    "    print(month, sum(months_ratings[str(month)])/len(months_ratings[str(month)]))"
   ]
  },
  {
   "cell_type": "code",
   "execution_count": 12,
   "metadata": {
    "collapsed": true
   },
   "outputs": [],
   "source": [
    "# Append month of review to dataframe\n",
    "months = []\n",
    "\n",
    "for date in df['Review_Date']:\n",
    "    month = date.split(\"/\")[0]\n",
    "    months.append(month)\n",
    "\n",
    "df['Month'] = pd.Series(months).values"
   ]
  },
  {
   "cell_type": "markdown",
   "metadata": {},
   "source": [
    "The month with the highest rating is February. As a general trend it seems that the winter months tend to have higher rating on average than the spring and summer months. Possibly people are more thankful to have shelter when its cold? Or perhaps people are more critical during the summer"
   ]
  },
  {
   "cell_type": "markdown",
   "metadata": {},
   "source": [
    "### Relationship between trip type and rating"
   ]
  },
  {
   "cell_type": "code",
   "execution_count": 13,
   "metadata": {},
   "outputs": [
    {
     "name": "stdout",
     "output_type": "stream",
     "text": [
      "Leisure Trip's average ratings: 8.48829593708\n",
      "Business Trip's average ratings: 7.97273056101\n"
     ]
    }
   ],
   "source": [
    "trip_type_ratings = defaultdict(list)\n",
    "\n",
    "for tags, rating in zip(df['Tags'], df['Reviewer_Score']):\n",
    "    L = ' Leisure trip '\n",
    "    B = ' Business trip '\n",
    "    if L in tags:\n",
    "        trip_type_ratings[L].append(rating)\n",
    "    elif B in tags:\n",
    "        trip_type_ratings[B].append(rating)\n",
    "    else:\n",
    "        continue\n",
    "        \n",
    "leisure_ratings = trip_type_ratings[' Leisure trip ']\n",
    "business_ratings = trip_type_ratings[' Business trip ']\n",
    "\n",
    "leisure_avg = sum(leisure_ratings)/len(leisure_ratings)\n",
    "business_avg = sum(business_ratings)/len(business_ratings)\n",
    "\n",
    "print(\"Leisure Trip's average ratings:\", leisure_avg)\n",
    "print(\"Business Trip's average ratings:\", business_avg)"
   ]
  },
  {
   "cell_type": "code",
   "execution_count": 15,
   "metadata": {
    "collapsed": true
   },
   "outputs": [],
   "source": [
    "# Make an encoding for trip type encoded as 0: Leisure, 1: Business, 2: Neither\n",
    "tripType = []\n",
    "\n",
    "for tags in df['Tags']:\n",
    "    if ' Leisure trip ' in tags:\n",
    "        tripType.append(0)\n",
    "    elif ' Business trip ' in tags:\n",
    "        tripType.append(1)\n",
    "    else:\n",
    "        tripType.append(2)\n",
    "        \n",
    "df['Trip Type'] = pd.Series(tripType).values"
   ]
  },
  {
   "cell_type": "markdown",
   "metadata": {},
   "source": [
    "It seems that people on leisurely trips tend to rate 1/2 a point higher than those on Busieness."
   ]
  },
  {
   "cell_type": "code",
   "execution_count": 16,
   "metadata": {
    "collapsed": true
   },
   "outputs": [],
   "source": [
    "### Relationship between length of stay and rating\n",
    "\n",
    "import matplotlib\n",
    "import matplotlib.pyplot as plt\n",
    "# Create random data with numpy\n",
    "import numpy as np\n",
    "import re\n",
    "\n",
    "stays = []\n",
    "\n",
    "#retrieve length of stay\n",
    "for index,row in df.iterrows():\n",
    "   \n",
    "    tags = row['Tags'].split(',')\n",
    "    found = False\n",
    "    for i in tags:\n",
    "        \n",
    "        if \"Stayed\" in i:\n",
    "            num_stayed = ''.join(x for x in i if x.isdigit())\n",
    "            stays.append(num_stayed)\n",
    "            found= True\n",
    "    if not found:\n",
    "        stays.append(str(-1))"
   ]
  },
  {
   "cell_type": "code",
   "execution_count": 17,
   "metadata": {
    "collapsed": true
   },
   "outputs": [],
   "source": [
    "reviewer_score = []\n",
    "for index,row in df.iterrows():\n",
    "    score = row['Reviewer_Score']\n",
    "\n",
    "    reviewer_score.append(score)"
   ]
  },
  {
   "cell_type": "code",
   "execution_count": 18,
   "metadata": {},
   "outputs": [
    {
     "data": {
      "image/png": "[encoded data removed]",
      "text/plain": [
       "<matplotlib.figure.Figure at 0x137641ef0>"
      ]
     },
     "metadata": {
      "needs_background": "light"
     },
     "output_type": "display_data"
    }
   ],
   "source": [
    "d = {}\n",
    "for i in stays:\n",
    "    if i not in d:\n",
    "        d[i] = 1\n",
    "    else:\n",
    "        d[i] = d[i] + 1\n",
    "pairs = []\n",
    "for i in range(len(stays)):\n",
    "    pairs.append((int(stays[i]), reviewer_score[i]))\n",
    "\n",
    "#dictionary of stays and reviewer_score\n",
    "d = defaultdict(list)\n",
    "for i in pairs:\n",
    "    d[i[0]].append(i[1])\n",
    "    \n",
    "#dictionary of stays and average reviewer_score\n",
    "average = {}\n",
    "for i in d:\n",
    "    l = d[i]\n",
    "    s = 0\n",
    "    for val in l:\n",
    "        s = s + val\n",
    "    average[i] = s/len(l)\n",
    "\n",
    "list_of_average = []\n",
    "list_of_stays = []\n",
    "for i in average:\n",
    "    list_of_average.append(average[i])\n",
    "    list_of_stays.append(i)\n",
    "    \n",
    "plt.scatter(list_of_stays, list_of_average)\n",
    "plt.show()"
   ]
  },
  {
   "cell_type": "markdown",
   "metadata": {},
   "source": [
    "The longer a stay, the lower the review score, but after 22 days roughly, it begins to increase"
   ]
  },
  {
   "cell_type": "code",
   "execution_count": 19,
   "metadata": {
    "collapsed": true
   },
   "outputs": [],
   "source": [
    "df['Duration of Stay'] = pd.Series(stays).values"
   ]
  },
  {
   "cell_type": "markdown",
   "metadata": {},
   "source": [
    "### RACIST relationship"
   ]
  },
  {
   "cell_type": "code",
   "execution_count": 129,
   "metadata": {
    "collapsed": true
   },
   "outputs": [],
   "source": [
    "nationalities = set()\n",
    "for i in df['Reviewer_Nationality']:\n",
    "    nationalities.add(i)\n",
    "    \n",
    "#map that encodes a nationaliy to a real number\n",
    "nationality_encoding = defaultdict(int)\n",
    "nationalities = list(nationalities)\n",
    "\n",
    "#Create encodings\n",
    "for i in range(len(nationalities)):\n",
    "    nationality = nationalities[i]\n",
    "    nationality_encoding[nationality] = i\n",
    "    \n",
    "encodings = []\n",
    "for i in df['Reviewer_Nationality']:\n",
    "    encodings.append(nationality_encoding[i])\n",
    "    \n",
    "df['Reviewer_nationality'] = pd.Series(encodings).values"
   ]
  },
  {
   "cell_type": "markdown",
   "metadata": {},
   "source": [
    "Nationality of reviewer plays little effect on the result. Theta for nationality is -9.12568450e-04"
   ]
  },
  {
   "cell_type": "code",
   "execution_count": 133,
   "metadata": {},
   "outputs": [
    {
     "data": {
      "text/plain": [
       "['Hotel_Address',\n",
       " 'Additional_Number_of_Scoring',\n",
       " 'Review_Date',\n",
       " 'Average_Score',\n",
       " 'Hotel_Name',\n",
       " 'Reviewer_Nationality',\n",
       " 'Negative_Review',\n",
       " 'Review_Total_Negative_Word_Counts',\n",
       " 'Total_Number_of_Reviews',\n",
       " 'Positive_Review',\n",
       " 'Review_Total_Positive_Word_Counts',\n",
       " 'Total_Number_of_Reviews_Reviewer_Has_Given',\n",
       " 'Reviewer_Score',\n",
       " 'Tags',\n",
       " 'days_since_review',\n",
       " 'lat',\n",
       " 'lng',\n",
       " 'Country',\n",
       " 'Month',\n",
       " 'Trip Type',\n",
       " 'Duration of Stay',\n",
       " 'Reviewer_nationality']"
      ]
     },
     "execution_count": 133,
     "metadata": {},
     "output_type": "execute_result"
    }
   ],
   "source": [
    "list(df)"
   ]
  },
  {
   "cell_type": "markdown",
   "metadata": {},
   "source": [
    "## Part 2: Predictive Task: Exact Score Prediction"
   ]
  },
  {
   "cell_type": "markdown",
   "metadata": {},
   "source": [
    "Predictive Task: Attempt to predict the score the reviewer gave the hotel"
   ]
  },
  {
   "cell_type": "code",
   "execution_count": 170,
   "metadata": {
    "collapsed": true
   },
   "outputs": [],
   "source": [
    "training, test = train_test_split(df, test_size=0.3)"
   ]
  },
  {
   "cell_type": "code",
   "execution_count": 258,
   "metadata": {
    "collapsed": true
   },
   "outputs": [],
   "source": [
    "# Function that converts a list of real-values ratings into a list of Stars Rating\n",
    "\n",
    "def getStars(l):\n",
    "    star_ratings = []\n",
    "    for ratings in l:\n",
    "        if (ratings <= 2):\n",
    "            star_ratings.append(1)\n",
    "        elif(2 < ratings <= 4):\n",
    "            star_ratings.append(2)\n",
    "        elif(4 < ratings <= 6):\n",
    "            star_ratings.append(3)\n",
    "        elif(6 < ratings <= 8):\n",
    "            star_ratings.append(4)\n",
    "        elif(8 < ratings):\n",
    "            star_ratings.append(5)\n",
    "        \n",
    "    return star_ratings"
   ]
  },
  {
   "cell_type": "code",
   "execution_count": 208,
   "metadata": {},
   "outputs": [],
   "source": [
    "# Returns the accuracy (True Labels/ Total Labels) given a list of predictions and labels\n",
    "def getAccuracy(predictions, labels):\n",
    "    totalCorrect = 0;\n",
    "    for i in range(len(labels)):\n",
    "        if(predictions[i] == labels[i]):\n",
    "            totalCorrect += 1\n",
    "    return totalCorrect/len(labels)"
   ]
  },
  {
   "cell_type": "markdown",
   "metadata": {},
   "source": [
    "### Baseline/Trivial predictor: Use hotel's average score to predict reviewer score - R^2 = 0.13, Acc = 63%"
   ]
  },
  {
   "cell_type": "code",
   "execution_count": 254,
   "metadata": {},
   "outputs": [
    {
     "name": "stdout",
     "output_type": "stream",
     "text": [
      "Training MSE: 2.33031336561\n",
      "Training R-Squared: 0.131677917494\n",
      "Training Accuracy: 0.6331409134221198\n"
     ]
    }
   ],
   "source": [
    "# Baseline that simply returns the average score of the hotel for the user's score\n",
    "\n",
    "def trivialFeature(datum):\n",
    "    feat = [datum['Average_Score']]\n",
    "    return feat\n",
    "X_train_trivial = [trivialFeature(row) for index, row in training.iterrows()]\n",
    "\n",
    "# Evaluate accuracy of model\n",
    "trainMSE = mean_squared_error(y_train, X_train_trivial)\n",
    "print(\"Training MSE:\", trainMSE)\n",
    "r2 = r2_score(y_train, X_train_trivial)\n",
    "print(\"Training R-Squared:\", r2)\n",
    "\n",
    "# Convert predictions to stars and predict star accuracy\n",
    "X_trivial = []\n",
    "for index, row in training.iterrows():\n",
    "    X_trivial.append(row['Average_Score'])\n",
    "X_train_trivial_stars = getStars(X_trivial)\n",
    "y_train_stars = getStars(training['Reviewer_Score'].values)\n",
    "print(\"Training Accuracy:\", getAccuracy(X_train_trivial_stars, y_train_stars))"
   ]
  },
  {
   "cell_type": "code",
   "execution_count": 256,
   "metadata": {
    "scrolled": true
   },
   "outputs": [
    {
     "name": "stdout",
     "output_type": "stream",
     "text": [
      "Testing MSE: 2.32537092333\n",
      "Testing R-Squared: 0.132302225885\n",
      "Testning Accuracy: 0.6328964206770854\n"
     ]
    }
   ],
   "source": [
    "X_test_trivial = [trivialFeature(row) for index, row in test.iterrows()]\n",
    "y_test = [row['Reviewer_Score'] for index,row in test.iterrows()]\n",
    "\n",
    "testMSE = mean_squared_error(y_test, X_test_trivial)\n",
    "print(\"Testing MSE:\", testMSE)\n",
    "r2 = r2_score(y_test, X_test_trivial)\n",
    "print(\"Testing R-Squared:\", r2)\n",
    "\n",
    "# Convert predictions to stars and predict star accuracy\n",
    "X_trivial = []\n",
    "for index, row in test.iterrows():\n",
    "    X_trivial.append(row['Average_Score'])\n",
    "X_test_trivial_stars = getStars(X_trivial)\n",
    "y_test_stars = getStars(test['Reviewer_Score'].values)\n",
    "print(\"Testning Accuracy:\", getAccuracy(X_test_trivial_stars, y_test_stars))"
   ]
  },
  {
   "cell_type": "markdown",
   "metadata": {},
   "source": [
    "### Model I: Build feature matrix from various dataframe columns - R^2 = .308, Acc = 68.07%"
   ]
  },
  {
   "cell_type": "code",
   "execution_count": 282,
   "metadata": {
    "collapsed": true
   },
   "outputs": [],
   "source": [
    "def feature(datum):\n",
    "    feat = [1, datum['Country'], datum['Trip Type'],\n",
    "            datum['Average_Score'], datum['Review_Total_Positive_Word_Counts'],\n",
    "            datum['Review_Total_Negative_Word_Counts']]\n",
    "    return feat"
   ]
  },
  {
   "cell_type": "code",
   "execution_count": 283,
   "metadata": {},
   "outputs": [
    {
     "data": {
      "text/plain": [
       "array([ 1.18450782, -0.02178307, -0.21926756,  0.87785693,  0.01743257,\n",
       "       -0.02076792])"
      ]
     },
     "execution_count": 283,
     "metadata": {},
     "output_type": "execute_result"
    }
   ],
   "source": [
    "X_train = [feature(row) for index, row in training.iterrows()]\n",
    "y_train = [row['Reviewer_Score'] for index,row in training.iterrows()]\n",
    "theta, residuals, rank, s = numpy.linalg.lstsq(X_train, y_train)\n",
    "theta"
   ]
  },
  {
   "cell_type": "code",
   "execution_count": 259,
   "metadata": {},
   "outputs": [
    {
     "name": "stdout",
     "output_type": "stream",
     "text": [
      "Training MSE: 1.85523502622\n",
      "Training R-Squared: 0.30870175433\n",
      "Training Accuracy: 0.6807703813681388\n"
     ]
    }
   ],
   "source": [
    "predictions_train = []\n",
    "\n",
    "for index, row in training.iterrows():\n",
    "    predictions_train.append(theta[0] + theta[1] * float(row['Country']) + \n",
    "                             theta[2] * float(row['Trip Type']) +  \n",
    "                             theta[3] * float(row['Average_Score']) + theta[4] * float(row['Review_Total_Positive_Word_Counts']) +\n",
    "                             theta[5] * float(row['Review_Total_Negative_Word_Counts']))\n",
    "\n",
    "# Evaluate accuracy of model\n",
    "trainMSE = mean_squared_error(y_train, predictions_train)\n",
    "print(\"Training MSE:\", trainMSE)\n",
    "r2 = r2_score(y_train, predictions_train)\n",
    "print(\"Training R-Squared:\", r2)\n",
    "\n",
    "# Convert predictions to stars and predict star accuracy\n",
    "predictions_train_stars = getStars(predictions_train)\n",
    "print(\"Training Accuracy:\", getAccuracy(predictions_train_stars, y_train_stars))"
   ]
  },
  {
   "cell_type": "code",
   "execution_count": 260,
   "metadata": {},
   "outputs": [
    {
     "name": "stdout",
     "output_type": "stream",
     "text": [
      "Testing MSE: 1.85349503615\n",
      "Testing R-Squared: 0.308379793922\n",
      "Testing Accuracy: 0.6813898475976267\n"
     ]
    }
   ],
   "source": [
    "X_test = [feature(row) for index, row in test.iterrows()]\n",
    "y_test = [row['Reviewer_Score'] for index,row in test.iterrows()]\n",
    "theta, residuals, rank, s = numpy.linalg.lstsq(X_test, y_test)\n",
    "\n",
    "predictions_test = []\n",
    "\n",
    "for index, row in test.iterrows():\n",
    "    predictions_test.append(theta[0] + theta[1] * float(row['Country']) + \n",
    "                             theta[2] * float(row['Trip Type']) +  \n",
    "                             theta[3] * float(row['Average_Score']) + theta[4] * float(row['Review_Total_Positive_Word_Counts']) +\n",
    "                             theta[5] * float(row['Review_Total_Negative_Word_Counts']))\n",
    "\n",
    "# Evaluate accuracy of model\n",
    "testMSE = mean_squared_error(y_test, predictions_test)\n",
    "print(\"Testing MSE:\", testMSE)\n",
    "r2 = r2_score(y_test, predictions_test)\n",
    "print(\"Testing R-Squared:\", r2)\n",
    "\n",
    "# Convert predictions to stars and predict star accuracy\n",
    "predictions_test_stars = getStars(predictions_test)\n",
    "print(\"Testing Accuracy:\", getAccuracy(predictions_test_stars, y_test_stars))"
   ]
  },
  {
   "cell_type": "markdown",
   "metadata": {},
   "source": [
    "### Model II: Build feature matrix from occurrence of words - R^2 = .315, Acc = 68.41%"
   ]
  },
  {
   "cell_type": "code",
   "execution_count": 236,
   "metadata": {
    "collapsed": true
   },
   "outputs": [],
   "source": [
    "def featurePos(datum):\n",
    "    feat = [0]*(len(uniquePosWords))\n",
    "    r = ''.join([c for c in datum['Positive_Review'].lower() if not c in punctuation])\n",
    "    for w in r.split():\n",
    "        if w in uniquePosWords:\n",
    "            feat[wordIdPos[w]] = 1\n",
    "    feat.append(1) #offset\n",
    "    return feat\n",
    "\n",
    "def featureNeg(datum):\n",
    "    feat = [0]*(len(uniqueNegWords))\n",
    "    r = ''.join([c for c in datum['Negative_Review'].lower() if not c in punctuation])\n",
    "    for w in r.split():\n",
    "        if w in uniqueNegWords:\n",
    "            feat[wordIdNeg[w]] = 1\n",
    "    return feat"
   ]
  },
  {
   "cell_type": "code",
   "execution_count": 176,
   "metadata": {},
   "outputs": [],
   "source": [
    "# Extract most popular words in positive reviews\n",
    "\n",
    "### Ignore capitalization and remove punctuation\n",
    "posWordCount = defaultdict(int)\n",
    "punctuation = set(string.punctuation)\n",
    "\n",
    "for index, row in training.iterrows():\n",
    "    r = ''.join([c for c in row['Positive_Review'] if not c in punctuation])\n",
    "    for w in r.split():\n",
    "        posWordCount[w] += 1\n",
    "        \n",
    "### Just take the most popular words...\n",
    "\n",
    "posCounts = [(posWordCount[w], w) for w in posWordCount]\n",
    "posCounts.sort()\n",
    "posCounts.reverse()\n",
    "\n",
    "posWords = [x[1] for x in posCounts[:500]]\n",
    "\n",
    "# Extract most popular words in negative reviews\n",
    "\n",
    "### Ignore capitalization and remove punctuation\n",
    "negWordCount = defaultdict(int)\n",
    "\n",
    "for index, row in training.iterrows():\n",
    "    r = ''.join([c for c in row['Negative_Review'] if not c in punctuation])\n",
    "    for w in r.split():\n",
    "        negWordCount[w] += 1\n",
    "        \n",
    "### Just take the most popular words...\n",
    "\n",
    "negCounts = [(negWordCount[w], w) for w in negWordCount]\n",
    "negCounts.sort()\n",
    "negCounts.reverse()\n",
    "\n",
    "negWords = [x[1] for x in negCounts[:500]]"
   ]
  },
  {
   "cell_type": "code",
   "execution_count": 177,
   "metadata": {
    "collapsed": true
   },
   "outputs": [],
   "source": [
    "# Remove words that appear in both positive and negative sets to handle ambiguity in review\n",
    "posWords = set(posWords)\n",
    "negWords = set(negWords)\n",
    "uniquePosWords = set()\n",
    "uniqueNegWords = set()\n",
    "\n",
    "uniquePosWords = posWords - negWords\n",
    "uniqueNegWords = negWords - posWords"
   ]
  },
  {
   "cell_type": "code",
   "execution_count": 178,
   "metadata": {
    "collapsed": true
   },
   "outputs": [],
   "source": [
    "wordIdPos = dict(zip(uniquePosWords, range(len(posWords))))\n",
    "wordIdNeg = dict(zip(uniqueNegWords, range(len(negWords))))"
   ]
  },
  {
   "cell_type": "code",
   "execution_count": 237,
   "metadata": {
    "collapsed": true
   },
   "outputs": [],
   "source": [
    "X_train_words_pos = np.array([featurePos(row) for index, row in training.iterrows()])\n",
    "X_train_words_neg = np.array([featureNeg(row) for index, row in training.iterrows()])"
   ]
  },
  {
   "cell_type": "code",
   "execution_count": 238,
   "metadata": {
    "collapsed": true
   },
   "outputs": [],
   "source": [
    "X_train_words = np.concatenate((X_train_words_pos, X_train_words_neg), axis=1)"
   ]
  },
  {
   "cell_type": "code",
   "execution_count": 239,
   "metadata": {},
   "outputs": [],
   "source": [
    "theta, residuals, rank, s = numpy.linalg.lstsq(X_train_words, y_train)"
   ]
  },
  {
   "cell_type": "code",
   "execution_count": 240,
   "metadata": {},
   "outputs": [],
   "source": [
    "X_predictions_words = []\n",
    "\n",
    "for i in X_train_words:\n",
    "    pred = 0\n",
    "    for val in range(len(i)):\n",
    "        pred += i[val] * theta[val]\n",
    "    X_predictions_words.append(pred)"
   ]
  },
  {
   "cell_type": "code",
   "execution_count": 261,
   "metadata": {},
   "outputs": [
    {
     "name": "stdout",
     "output_type": "stream",
     "text": [
      "Training MSE: 1.8376103848\n",
      "Training R-Squared: 0.315269053634\n",
      "Training Accuracy: 0.6841192634121479\n"
     ]
    }
   ],
   "source": [
    "# Evaluate accuracy of model\n",
    "trainMSE = mean_squared_error(y_train, X_predictions_words)\n",
    "print(\"Training MSE:\", trainMSE)\n",
    "r2 = r2_score(y_train, X_predictions_words)\n",
    "print(\"Training R-Squared:\", r2)\n",
    "\n",
    "# Convert predictions to stars and predict star accuracy\n",
    "predictions_train_stars = getStars(X_predictions_words)\n",
    "print(\"Training Accuracy:\", getAccuracy(predictions_train_stars, y_train_stars))"
   ]
  },
  {
   "cell_type": "code",
   "execution_count": 266,
   "metadata": {},
   "outputs": [
    {
     "name": "stdout",
     "output_type": "stream",
     "text": [
      "Testing MSE: 1.83234743183\n",
      "Testing R-Squared: 0.316270891646\n",
      "Testing Accuracy: 0.6865604115768927\n"
     ]
    }
   ],
   "source": [
    "X_test_words_pos = np.array([featurePos(row) for index, row in test.iterrows()])\n",
    "X_test_words_neg = np.array([featureNeg(row) for index, row in test.iterrows()])\n",
    "X_test_words = np.concatenate((X_test_words_pos, X_test_words_neg), axis=1)\n",
    "theta, residuals, rank, s = numpy.linalg.lstsq(X_test_words, y_test)\n",
    "\n",
    "X_predictions_words_test = []\n",
    "\n",
    "for i in X_test_words:\n",
    "    pred = 0\n",
    "    for val in range(len(i)):\n",
    "        pred += i[val] * theta[val]\n",
    "    X_predictions_words_test.append(pred)\n",
    "    \n",
    "# Evaluate accuracy of model\n",
    "testMSE = mean_squared_error(y_test, X_predictions_words_test)\n",
    "print(\"Testing MSE:\", testMSE)\n",
    "r2 = r2_score(y_test, X_predictions_words_test)\n",
    "print(\"Testing R-Squared:\", r2)\n",
    "\n",
    "# Convert predictions to stars and predict star accuracy\n",
    "predictions_test_stars = getStars(X_predictions_words_test)\n",
    "print(\"Testing Accuracy:\", getAccuracy(predictions_test_stars, y_test_stars))"
   ]
  },
  {
   "cell_type": "markdown",
   "metadata": {},
   "source": [
    "### Model III: Combine Models I and II - R^2 = 0.402, Acc = 69.79%"
   ]
  },
  {
   "cell_type": "code",
   "execution_count": 272,
   "metadata": {
    "collapsed": true
   },
   "outputs": [],
   "source": [
    "X_train = np.array(X_train) # Basic feature matrix (Country, length of stay, etc.)\n",
    "X_train_combined = np.concatenate((X_train, X_train_words), axis=1)"
   ]
  },
  {
   "cell_type": "code",
   "execution_count": 273,
   "metadata": {},
   "outputs": [],
   "source": [
    "theta, residuals, rank, s = numpy.linalg.lstsq(X_train_combined, y_train)"
   ]
  },
  {
   "cell_type": "code",
   "execution_count": 274,
   "metadata": {},
   "outputs": [],
   "source": [
    "X_predictions_combined = []\n",
    "\n",
    "for i in X_train_combined:\n",
    "    pred = 0\n",
    "    for val in range(len(i)):\n",
    "        pred += float(i[val]) * theta[val]\n",
    "    if pred > 10: #Because sometimes the prediction exceeds 10\n",
    "        X_predictions_combined.append(10)\n",
    "    elif pred < 0: #Because sometimes the prediction is negative\n",
    "        X_predictions_combined.append(1)\n",
    "    else:\n",
    "        X_predictions_combined.append(pred)"
   ]
  },
  {
   "cell_type": "code",
   "execution_count": 276,
   "metadata": {},
   "outputs": [
    {
     "name": "stdout",
     "output_type": "stream",
     "text": [
      "Training MSE: 1.60299498207\n",
      "Training R-Squared: 0.402691517107\n",
      "Training Accuracy: 0.6979579852416513\n"
     ]
    }
   ],
   "source": [
    "# Evaluate accuracy of model\n",
    "trainMSE = mean_squared_error(y_train, X_predictions_combined)\n",
    "print(\"Training MSE:\", trainMSE)\n",
    "r2 = r2_score(y_train, X_predictions_combined)\n",
    "print(\"Training R-Squared:\", r2)\n",
    "\n",
    "# Convert predictions to stars and predict star accuracy\n",
    "predictions_train_stars = getStars(X_predictions_combined)\n",
    "print(\"Training Accuracy:\", getAccuracy(predictions_train_stars, y_train_stars))"
   ]
  },
  {
   "cell_type": "code",
   "execution_count": 279,
   "metadata": {
    "collapsed": true
   },
   "outputs": [],
   "source": [
    "X_test = np.array(X_test)\n",
    "X_test_combined = np.concatenate((X_test, X_test_words), axis=1)\n",
    "\n",
    "X_predictions_combined = []\n",
    "\n",
    "for i in X_test_combined:\n",
    "    pred = 0\n",
    "    for val in range(len(i)):\n",
    "        pred += float(i[val]) * theta[val]\n",
    "    if pred > 10: #Because sometimes the prediction exceeds 10\n",
    "        X_predictions_combined.append(10)\n",
    "    elif pred < 0: #Because sometimes the prediction is negative\n",
    "        X_predictions_combined.append(1)\n",
    "    else:\n",
    "        X_predictions_combined.append(pred)"
   ]
  },
  {
   "cell_type": "code",
   "execution_count": 281,
   "metadata": {},
   "outputs": [
    {
     "name": "stdout",
     "output_type": "stream",
     "text": [
      "Testing MSE: 1.60289896403\n",
      "Testing R-Squared: 0.40188816792\n",
      "Testing Accuracy: 0.6997582761339693\n"
     ]
    }
   ],
   "source": [
    "# Evaluate accuracy of model\n",
    "testMSE = mean_squared_error(y_test, X_predictions_combined)\n",
    "print(\"Testing MSE:\", testMSE)\n",
    "r2 = r2_score(y_test, X_predictions_combined)\n",
    "print(\"Testing R-Squared:\", r2)\n",
    "\n",
    "# Convert predictions to stars and predict star accuracy\n",
    "predictions_test_stars = getStars(X_predictions_combined)\n",
    "print(\"Testing Accuracy:\", getAccuracy(predictions_test_stars, y_test_stars))"
   ]
  },
  {
   "cell_type": "markdown",
   "metadata": {},
   "source": [
    "## Interesting note, calculating MSE and R-Squared of stars is very different from actual ratings"
   ]
  },
  {
   "cell_type": "code",
   "execution_count": 210,
   "metadata": {},
   "outputs": [],
   "source": [
    "y_train_stars = getStars(training['Reviewer_Score'].values)\n",
    "X_predictions_stars = getStars(X_predictions_combined)"
   ]
  },
  {
   "cell_type": "code",
   "execution_count": 206,
   "metadata": {},
   "outputs": [
    {
     "name": "stdout",
     "output_type": "stream",
     "text": [
      "MSE: 0.428108449487\n",
      "R-Squared: 0.204912976711\n"
     ]
    }
   ],
   "source": [
    "# Evaluate accuracy of model\n",
    "trainMSE = mean_squared_error(y_train_stars, X_predictions_stars)\n",
    "print(\"MSE:\", trainMSE)\n",
    "r2 = r2_score(y_train_stars, X_predictions_stars)\n",
    "print(\"R-Squared:\", r2)"
   ]
  },
  {
   "cell_type": "markdown",
   "metadata": {},
   "source": [
    "MSE went down significantly but R-Squared went down by half. Will measure accuracy differently"
   ]
  }
 ],
 "metadata": {
  "kernelspec": {
   "display_name": "Python 3",
   "language": "python",
   "name": "python3"
  },
  "language_info": {
   "codemirror_mode": {
    "name": "ipython",
    "version": 3
   },
   "file_extension": ".py",
   "mimetype": "text/x-python",
   "name": "python",
   "nbconvert_exporter": "python",
   "pygments_lexer": "ipython3",
   "version": "3.6.3"
  }
 },
 "nbformat": 4,
 "nbformat_minor": 2
}
